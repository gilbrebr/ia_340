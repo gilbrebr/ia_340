{
 "cells": [
  {
   "cell_type": "code",
   "execution_count": 1,
   "metadata": {},
   "outputs": [],
   "source": [
    "url = 'http://ia-340-gp6-2020.s3-website-us-east-1.amazonaws.com/'"
   ]
  },
  {
   "cell_type": "code",
   "execution_count": 3,
   "metadata": {},
   "outputs": [
    {
     "name": "stdout",
     "output_type": "stream",
     "text": [
      "<!DOCTYPE>\n",
      "\n",
      "<html>\n",
      "    \n",
      "    <head>\n",
      "        \n",
      "        <title> IA 340 </title>\n",
      "        \n",
      "        <style>\n",
      "                div.div_style{\n",
      "                    background-color: black;\n",
      "                    color: white; \n",
      "                }\n",
      "                span.span_style{\n",
      "                    color:red;\n",
      "                }\n",
      "        </style>\n",
      "        \n",
      "        \n",
      "    </head>\n",
      "    \n",
      "    \n",
      "    <body>\n",
      "        \n",
      "        <h1> Data Mining Class </h1>\n",
      "        \n",
      "        <img src = \"logo_ia340.png\">\n",
      "        \n",
      "        <p> Instructor: Xuebin Wei <p>\n",
      "\n",
      "        <p> website <a href = \"http://www.lbsocial.net\"> lbsocial </a> </p>\n",
      "        <div id = \"div1\" class = \"div_style\">\n",
      "            <h2> Goals of the Course </h2>\n",
      "            \n",
      "            <ol> \n",
      "                <li> Understand basic concepts and technologies of data modeling in Relational Database\n",
      "                    Management System and Structured Query Language </li>\n",
      "                <li> Understand the basic technologies of Unstructured Database, Cloud Database, Data Warehouse, and Data Lake. </li>\n",
      "                \n",
      "                <li> Be able to collect social media data or other online information from the Internet </li>\n",
      "            </ol>\n",
      "        </div>\n",
      "        \n",
      "        <div id = \"div2\">\n",
      "            <h2> scheduele </h2>\n",
      "            \n",
      "           <table border = \"1\">\n",
      "               \n",
      "               <tr>\n",
      "                   <th> date </th>\n",
      "                   <th> topic </th>\n",
      "               </tr>\n",
      "               \n",
      "               <tr>\n",
      "                   <td> week_1 </td>\n",
      "                   <td> database </td>\n",
      "               </tr>\n",
      "               \n",
      "            </table>\n",
      "        </div>\n",
      "        \n",
      "    </body>\n",
      "</html>\n"
     ]
    }
   ],
   "source": [
    "import urllib.request\n",
    "\n",
    "response = urllib.request.urlopen(url)\n",
    "\n",
    "html_data = response.read()\n",
    "\n",
    "print(html_data.decode('utf-8'))"
   ]
  },
  {
   "cell_type": "code",
   "execution_count": 4,
   "metadata": {},
   "outputs": [
    {
     "name": "stdout",
     "output_type": "stream",
     "text": [
      "Requirement already satisfied: beautifulsoup4 in /home/ec2-user/anaconda3/envs/python3/lib/python3.6/site-packages (4.8.2)\n",
      "Requirement already satisfied: soupsieve>=1.2 in /home/ec2-user/anaconda3/envs/python3/lib/python3.6/site-packages (from beautifulsoup4) (1.9.5)\n",
      "\u001b[33mWARNING: You are using pip version 20.0.2; however, version 20.2.3 is available.\n",
      "You should consider upgrading via the '/home/ec2-user/anaconda3/envs/python3/bin/python -m pip install --upgrade pip' command.\u001b[0m\n"
     ]
    }
   ],
   "source": [
    "!pip install beautifulsoup4"
   ]
  },
  {
   "cell_type": "code",
   "execution_count": 5,
   "metadata": {},
   "outputs": [
    {
     "name": "stdout",
     "output_type": "stream",
     "text": [
      "<!DOCTYPE  >\n",
      "\n",
      "<html>\n",
      "<head>\n",
      "<title> IA 340 </title>\n",
      "<style>\n",
      "                div.div_style{\n",
      "                    background-color: black;\n",
      "                    color: white; \n",
      "                }\n",
      "                span.span_style{\n",
      "                    color:red;\n",
      "                }\n",
      "        </style>\n",
      "</head>\n",
      "<body>\n",
      "<h1> Data Mining Class </h1>\n",
      "<img src=\"logo_ia340.png\"/>\n",
      "<p> Instructor: Xuebin Wei <p>\n",
      "<p> website <a href=\"http://www.lbsocial.net\"> lbsocial </a> </p>\n",
      "<div class=\"div_style\" id=\"div1\">\n",
      "<h2> Goals of the Course </h2>\n",
      "<ol>\n",
      "<li> Understand basic concepts and technologies of data modeling in Relational Database\n",
      "                    Management System and Structured Query Language </li>\n",
      "<li> Understand the basic technologies of Unstructured Database, Cloud Database, Data Warehouse, and Data Lake. </li>\n",
      "<li> Be able to collect social media data or other online information from the Internet </li>\n",
      "</ol>\n",
      "</div>\n",
      "<div id=\"div2\">\n",
      "<h2> scheduele </h2>\n",
      "<table border=\"1\">\n",
      "<tr>\n",
      "<th> date </th>\n",
      "<th> topic </th>\n",
      "</tr>\n",
      "<tr>\n",
      "<td> week_1 </td>\n",
      "<td> database </td>\n",
      "</tr>\n",
      "</table>\n",
      "</div>\n",
      "</p></p></body>\n",
      "</html>\n"
     ]
    }
   ],
   "source": [
    "from bs4 import BeautifulSoup\n",
    "soup = BeautifulSoup(html_data, 'html.parser')\n",
    "print (soup)"
   ]
  },
  {
   "cell_type": "code",
   "execution_count": null,
   "metadata": {},
   "outputs": [],
   "source": []
  }
 ],
 "metadata": {
  "kernelspec": {
   "display_name": "conda_python3",
   "language": "python",
   "name": "conda_python3"
  },
  "language_info": {
   "codemirror_mode": {
    "name": "ipython",
    "version": 3
   },
   "file_extension": ".py",
   "mimetype": "text/x-python",
   "name": "python",
   "nbconvert_exporter": "python",
   "pygments_lexer": "ipython3",
   "version": "3.6.10"
  }
 },
 "nbformat": 4,
 "nbformat_minor": 4
}
